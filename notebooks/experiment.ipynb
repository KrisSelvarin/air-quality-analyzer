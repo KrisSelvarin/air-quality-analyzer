{
 "cells": [
  {
   "cell_type": "code",
   "execution_count": null,
   "id": "5da1589a",
   "metadata": {},
   "outputs": [],
   "source": [
    "import numpy as np\n",
    "import pandas as pd\n",
    "import matplotlib.pyplot as plt\n",
    "import seaborn as sns"
   ]
  },
  {
   "cell_type": "code",
   "execution_count": null,
   "id": "95738bcc",
   "metadata": {},
   "outputs": [],
   "source": [
    "filename = \"../data/raw/AirQualityUCI.csv\"\n",
    "df = pd.read_csv(\n",
    "    filename,\n",
    "    delimiter=';',\n",
    "    decimal=',',\n",
    ")\n",
    "\n",
    "# parsing and dropping columns\n",
    "df['DateTime'] = pd.to_datetime(df['Date'] + ' ' + df['Time'], format='%d/%m/%Y %H.%M.%S')\n",
    "df.drop(columns=['Date', 'Time', 'Unnamed: 15', 'Unnamed: 16'], inplace=True)\n",
    "\n",
    "# missing values\n",
    "df.dropna(how='all', inplace=True)\n",
    "df.replace(-200, pd.NA, inplace=True)\n",
    "col = [c for c in df.columns if c not in ['DateTime']]\n",
    "df[col] = df[col].apply(pd.to_numeric, errors='coerce')\n",
    "df.interpolate(method='linear', inplace=True)\n",
    "\n",
    "# round\n",
    "c = [c for c in df.columns if c not in ['DateTime', 'AH']]\n",
    "df[c] = df[c].apply(lambda x: x.round(1))\n",
    "\n",
    "# index datetime\n",
    "df.set_index('DateTime', inplace=True)\n",
    "\n",
    "# save this cleaned data as csv\n",
    "df"
   ]
  },
  {
   "cell_type": "code",
   "execution_count": null,
   "id": "d465bef7",
   "metadata": {},
   "outputs": [],
   "source": [
    "# global theme and palette\n",
    "sns.set_theme(style=\"darkgrid\", palette='crest')\n",
    "\n",
    "fig, ax = plt.subplots(figsize=(8,4))\n",
    "sns.histplot(df['CO(GT)'], bins=35, kde=True, ax=ax)\n",
    "ax.set_title('Distribution of CO Concentration (Ground Truth)', fontsize=15, fontweight='bold')\n",
    "ax.set_xlabel('CO Concentration (GT)')\n",
    "plt.tight_layout()"
   ]
  }
 ],
 "metadata": {
  "kernelspec": {
   "display_name": "Python 3",
   "language": "python",
   "name": "python3"
  },
  "language_info": {
   "codemirror_mode": {
    "name": "ipython",
    "version": 3
   },
   "file_extension": ".py",
   "mimetype": "text/x-python",
   "name": "python",
   "nbconvert_exporter": "python",
   "pygments_lexer": "ipython3",
   "version": "3.13.5"
  }
 },
 "nbformat": 4,
 "nbformat_minor": 5
}
